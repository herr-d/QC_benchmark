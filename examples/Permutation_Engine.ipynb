{
 "cells": [
  {
   "cell_type": "markdown",
   "metadata": {},
   "source": [
    "# Permutation engine examples"
   ]
  },
  {
   "cell_type": "markdown",
   "metadata": {},
   "source": [
    "This shows how to use the permutation engine to permute gates of a certain type towards the beginning or end of the circuit.\n",
    "It relies on the implementation of permutation rules between different gates. Currently, only rotational gates + CNOTs + Pauli + S + H + T and TimeEvolution gates are supported. Arbitrary controlled gates are not supported and must be decomposed first. We provide a handy engine list that translates any circuit into the supported gate set and performes the permutation."
   ]
  },
  {
   "cell_type": "code",
   "execution_count": 7,
   "metadata": {},
   "outputs": [],
   "source": [
    "import projectq\n",
    "import cmath\n",
    "from projectq.backends import CommandPrinter, Simulator\n",
    "from projectq.ops import *\n",
    "from projectq.cengines import PermutePi4Front"
   ]
  },
  {
   "cell_type": "markdown",
   "metadata": {},
   "source": [
    "#### First generate the main engine and the order of all the engines in the compiler stack."
   ]
  },
  {
   "cell_type": "code",
   "execution_count": 8,
   "metadata": {},
   "outputs": [],
   "source": [
    "engines = [CommandPrinter(),projectq.cengines.TagRemover(),PermutePi4Front()]\n",
    "eng = projectq.MainEngine(backend=CommandPrinter(), engine_list=engines)"
   ]
  },
  {
   "cell_type": "markdown",
   "metadata": {},
   "source": [
    "Now lets generate a very simple circuit"
   ]
  },
  {
   "cell_type": "code",
   "execution_count": 9,
   "metadata": {
    "scrolled": true
   },
   "outputs": [
    {
     "name": "stdout",
     "output_type": "stream",
     "text": [
      "Allocate | Qureg[0]\n",
      "Deallocate | Qureg[0]\n",
      "X | Qureg[0]\n",
      "Y | Qureg[0]\n",
      "X | Qureg[0]\n",
      "T | Qureg[0]\n",
      "T | Qureg[0]\n",
      "Warning: recieved a flush gate. For the permutation engine to work a flush can only be performed at the very end.\n",
      "Allocate | Qureg[0]\n",
      "Rz(11.780972450962) | Qureg[0]\n",
      "Rz(11.780972450962) | Qureg[0]\n",
      "Rx(3.14159265359) | Qureg[0]\n",
      "Ry(3.14159265359) | Qureg[0]\n",
      "Rx(3.14159265359) | Qureg[0]\n"
     ]
    }
   ],
   "source": [
    "qubit = eng.allocate_qubit()\n",
    "X | qubit\n",
    "Y | qubit\n",
    "X | qubit\n",
    "T | qubit\n",
    "T | qubit\n",
    "eng.flush()"
   ]
  },
  {
   "cell_type": "markdown",
   "metadata": {},
   "source": [
    "Now lets take a look at a bit more complicated circuit that is still natively supported:"
   ]
  },
  {
   "cell_type": "code",
   "execution_count": 10,
   "metadata": {},
   "outputs": [
    {
     "name": "stdout",
     "output_type": "stream",
     "text": [
      "Allocate | Qureg[0]\n",
      "Allocate | Qureg[1]\n",
      "Allocate | Qureg[2]\n",
      "Allocate | Qureg[3]\n",
      "T | Qureg[0]\n",
      "CX | ( Qureg[1], Qureg[2] )\n",
      "Rx(10.995574287564) | Qureg[3]\n",
      "CX | ( Qureg[1], Qureg[0] )\n",
      "Rx(1.570796326795) | Qureg[2]\n",
      "Rz(0.785398163397) | Qureg[3]\n",
      "Rz(0.785398163397) | Qureg[0]\n",
      "Rz(1.570796326795) | Qureg[1]\n",
      "Rz(0.785398163397) | Qureg[2]\n",
      "Rz(1.570796326795) | Qureg[3]\n",
      "Rx(10.995574287564) | Qureg[0]\n",
      "Rx(1.570796326795) | Qureg[1]\n",
      "Rx(1.570796326795) | Qureg[2]\n",
      "Rx(1.570796326795) | Qureg[3]\n",
      "Warning: recieved a flush gate. For the permutation engine to work a flush can only be performed at the very end.\n",
      "Allocate | Qureg[0]\n",
      "Allocate | Qureg[1]\n",
      "Allocate | Qureg[2]\n",
      "Allocate | Qureg[3]\n",
      "T | Qureg[0]\n",
      "Ry(0.785398163397) | Qureg[3]\n",
      "exp(0.3926990816985j * (1.0 Z0 Z1)) | Qureg[0-1]\n",
      "exp(0.3926990816985j * (1.0 Y0 Z1)) | Qureg[2, 1]\n",
      "CX | ( Qureg[1], Qureg[2] )\n",
      "Rx(10.995574287564) | Qureg[3]\n",
      "CX | ( Qureg[1], Qureg[0] )\n",
      "Rx(1.570796326795) | Qureg[2]\n",
      "Rz(1.570796326795) | Qureg[1]\n",
      "Rz(1.570796326795) | Qureg[3]\n",
      "Rx(10.995574287564) | Qureg[0]\n",
      "Rx(1.570796326795) | Qureg[1]\n",
      "Rx(1.570796326795) | Qureg[2]\n",
      "Rx(1.570796326795) | Qureg[3]\n"
     ]
    }
   ],
   "source": [
    "engines2 = [CommandPrinter(),projectq.cengines.TagRemover(),PermutePi4Front()]\n",
    "eng2 = projectq.MainEngine(backend=CommandPrinter(accept_input=False), engine_list=engines2, verbose=True)\n",
    "\n",
    "qubit1 = eng2.allocate_qubit()\n",
    "qubit2 = eng2.allocate_qubit()\n",
    "qubit3 = eng2.allocate_qubit()\n",
    "qubit4 = eng2.allocate_qubit()\n",
    "\n",
    "T | qubit1\n",
    "CNOT | (qubit2, qubit3)\n",
    "Rx(-cmath.pi/2) | qubit4\n",
    "\n",
    "CNOT | (qubit2, qubit1)\n",
    "Rx(cmath.pi/2) | qubit3\n",
    "Rz(cmath.pi/4) | qubit4\n",
    "\n",
    "\n",
    "Rz(cmath.pi/4) | qubit1\n",
    "Rz(cmath.pi/2) | qubit2\n",
    "Rz(cmath.pi/4) | qubit3\n",
    "Rz(cmath.pi/2) | qubit4\n",
    "\n",
    "Rx(-cmath.pi/2) | qubit1\n",
    "Rx(cmath.pi/2) | qubit2\n",
    "Rx(cmath.pi/2) | qubit3\n",
    "Rx(cmath.pi/2) | qubit4\n",
    "\n",
    "eng2.flush()"
   ]
  },
  {
   "cell_type": "markdown",
   "metadata": {},
   "source": [
    "This is actually the circuit shown in the paper: https://arxiv.org/abs/1808.02892\n",
    "\n",
    "# On to more general circuits...\n",
    "The provided engine_list is a whole stack of compile engines that should be able to translate an arbitrary circuit into the format needed by arxiv:1808.02892"
   ]
  },
  {
   "cell_type": "code",
   "execution_count": 13,
   "metadata": {},
   "outputs": [
    {
     "name": "stdout",
     "output_type": "stream",
     "text": [
      "[<projectq.cengines._replacer._replacer.AutoReplacer object at 0x7f7ebbe02cf8>, <projectq.cengines._tagremover.TagRemover object at 0x7f7ebbd7f588>, <projectq.cengines._replacer._replacer.InstructionFilter object at 0x7f7ebbd7f5c0>, <projectq.cengines._optimize.LocalOptimizer object at 0x7f7ebbd7f5f8>, <projectq.cengines._replacer._replacer.AutoReplacer object at 0x7f7ebbd7f630>, <projectq.cengines._tagremover.TagRemover object at 0x7f7ebbd7f668>, <projectq.cengines._replacer._replacer.InstructionFilter object at 0x7f7ebbd7f6a0>, <projectq.cengines._optimize.LocalOptimizer object at 0x7f7ebbd7f6d8>, <projectq.cengines._replacer._replacer.AutoReplacer object at 0x7f7ebbd7f710>, <projectq.cengines._tagremover.TagRemover object at 0x7f7ebbd7f748>, <projectq.cengines._replacer._replacer.InstructionFilter object at 0x7f7ebbd7f780>, <projectq.cengines._optimize.LocalOptimizer object at 0x7f7ebbd7f7b8>, <projectq.cengines._permutation._permutation.PermutePi4Front object at 0x7f7ebbd7f7f0>]\n"
     ]
    }
   ],
   "source": [
    "from projectq.setups.surface_codes import lattice_surgery\n",
    "engines3 = lattice_surgery.get_engine_list()\n",
    "print(engines3)"
   ]
  },
  {
   "cell_type": "code",
   "execution_count": 14,
   "metadata": {},
   "outputs": [],
   "source": [
    "eng3 = projectq.MainEngine(backend=CommandPrinter(accept_input=False), engine_list=engines3)\n",
    "\n",
    "\n",
    "# now add a general circuit\n"
   ]
  },
  {
   "cell_type": "code",
   "execution_count": null,
   "metadata": {},
   "outputs": [],
   "source": []
  }
 ],
 "metadata": {
  "kernelspec": {
   "display_name": "Python 3",
   "language": "python",
   "name": "python3"
  },
  "language_info": {
   "codemirror_mode": {
    "name": "ipython",
    "version": 3
   },
   "file_extension": ".py",
   "mimetype": "text/x-python",
   "name": "python",
   "nbconvert_exporter": "python",
   "pygments_lexer": "ipython3",
   "version": "3.6.6"
  }
 },
 "nbformat": 4,
 "nbformat_minor": 2
}
