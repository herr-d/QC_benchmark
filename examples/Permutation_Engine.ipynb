{
 "cells": [
  {
   "cell_type": "markdown",
   "metadata": {},
   "source": [
    "# Permutation engine examples"
   ]
  },
  {
   "cell_type": "markdown",
   "metadata": {},
   "source": [
    "This shows how to use the permutation engine to permute gates of a certain type towards the beginning or end of the circuit.\n",
    "It relies on the implementation of permutation rules between different gates. Currently, only rotational gates + Pauli + S + H + T and TimeEvolution gates are supported. So far there is no support for Controlled gates. But a CNOT can easily decomposed into two pi/4 rotations."
   ]
  },
  {
   "cell_type": "code",
   "execution_count": 6,
   "metadata": {},
   "outputs": [],
   "source": [
    "import projectq\n",
    "import cmath\n",
    "from projectq.backends import CommandPrinter, Simulator\n",
    "from projectq.ops import *\n",
    "from projectq.cengines import PermutePi4Front"
   ]
  },
  {
   "cell_type": "markdown",
   "metadata": {},
   "source": [
    "#### First generate the main engine and the order of all the engines in the compiler stack."
   ]
  },
  {
   "cell_type": "code",
   "execution_count": 7,
   "metadata": {},
   "outputs": [],
   "source": [
    "engines = [CommandPrinter(),projectq.cengines.TagRemover(),PermutePi4Front()]\n",
    "eng = projectq.MainEngine(backend=CommandPrinter(), engine_list=engines)"
   ]
  },
  {
   "cell_type": "markdown",
   "metadata": {},
   "source": [
    "Now lets generate a very simple circuit"
   ]
  },
  {
   "cell_type": "code",
   "execution_count": 8,
   "metadata": {
    "scrolled": true
   },
   "outputs": [
    {
     "name": "stdout",
     "output_type": "stream",
     "text": [
      "Allocate | Qureg[0]\n",
      "Deallocate | Qureg[0]\n",
      "X | Qureg[0]\n",
      "Y | Qureg[0]\n",
      "X | Qureg[0]\n",
      "T | Qureg[0]\n",
      "T | Qureg[0]\n",
      "Warning: recieved a flush gate. For the permutation engine to work a flush can only be performed at the very end.\n",
      "Allocate | Qureg[0]\n",
      "Rz(11.780972450962) | Qureg[0]\n",
      "Rz(11.780972450962) | Qureg[0]\n",
      "Rx(3.14159265359) | Qureg[0]\n",
      "Ry(3.14159265359) | Qureg[0]\n",
      "Rx(3.14159265359) | Qureg[0]\n"
     ]
    }
   ],
   "source": [
    "qubit = eng.allocate_qubit()\n",
    "X | qubit\n",
    "Y | qubit\n",
    "X | qubit\n",
    "T | qubit\n",
    "T | qubit\n",
    "eng.flush()"
   ]
  },
  {
   "cell_type": "markdown",
   "metadata": {},
   "source": [
    "Now lets take a look at two qubit gates. Such as the CNOT gate. For this we need to use the replacement rules provided by the projectq replacement engine. For this we first need to define which gates are allowed and which need to be replaced."
   ]
  },
  {
   "cell_type": "code",
   "execution_count": 9,
   "metadata": {},
   "outputs": [],
   "source": [
    "from projectq.setups import restrictedgateset"
   ]
  },
  {
   "cell_type": "code",
   "execution_count": 12,
   "metadata": {},
   "outputs": [
    {
     "name": "stdout",
     "output_type": "stream",
     "text": [
      "[<projectq.cengines._replacer._replacer.AutoReplacer object at 0x7f11ba3005f8>, <projectq.cengines._tagremover.TagRemover object at 0x7f11ba300ba8>, <projectq.cengines._replacer._replacer.InstructionFilter object at 0x7f11ba300be0>, <projectq.cengines._optimize.LocalOptimizer object at 0x7f11ba300c18>, <projectq.cengines._replacer._replacer.AutoReplacer object at 0x7f11ba300c50>, <projectq.cengines._tagremover.TagRemover object at 0x7f11ba300c88>, <projectq.cengines._replacer._replacer.InstructionFilter object at 0x7f11ba300cc0>, <projectq.cengines._optimize.LocalOptimizer object at 0x7f11ba300cf8>, <projectq.cengines._replacer._replacer.AutoReplacer object at 0x7f11ba300d30>, <projectq.cengines._tagremover.TagRemover object at 0x7f11ba300d68>, <projectq.cengines._replacer._replacer.InstructionFilter object at 0x7f11ba300da0>, <projectq.cengines._optimize.LocalOptimizer object at 0x7f11ba300dd8>]\n"
     ]
    }
   ],
   "source": [
    "engines2 = restrictedgateset.get_engine_list(one_qubit_gates=(X,Y,Z,Rx,Ry,Rz,H,T,S),\n",
    "                                                two_qubit_gates=(),\n",
    "                                                other_gates=(TimeEvolution,))\n",
    "print(engines2)"
   ]
  },
  {
   "cell_type": "markdown",
   "metadata": {},
   "source": [
    "It seems there is no decomposition of CNOTs into multi qubit rotation gates. This we still need to implement."
   ]
  },
  {
   "cell_type": "code",
   "execution_count": 14,
   "metadata": {},
   "outputs": [
    {
     "name": "stdout",
     "output_type": "stream",
     "text": [
      "Deallocate | Qureg[1]\n",
      "Deallocate | Qureg[2]\n",
      "Allocate | Qureg[1]\n",
      "H | Qureg[1]\n",
      "Ry(7.853981633974) | Qureg[1]\n",
      "H | Qureg[1]\n",
      "Ry(7.853981633974) | Qureg[1]\n",
      "H | Qureg[1]\n",
      "Ry(7.853981633974) | Qureg[1]\n",
      "H | Qureg[1]\n",
      "Ry(7.853981633974) | Qureg[1]\n",
      "H | Qureg[1]\n",
      "Ry(7.853981633974) | Qureg[1]\n",
      "H | Qureg[1]\n",
      "Ry(7.853981633974) | Qureg[1]\n",
      "H | Qureg[1]\n",
      "Ry(7.853981633974) | Qureg[1]\n",
      "H | Qureg[1]\n",
      "Ry(7.853981633974) | Qureg[1]\n",
      "H | Qureg[1]\n",
      "Ry(7.853981633974) | Qureg[1]\n",
      "H | Qureg[1]\n",
      "Ry(7.853981633974) | Qureg[1]\n",
      "H | Qureg[1]\n",
      "Ry(7.853981633974) | Qureg[1]\n",
      "H | Qureg[1]\n",
      "Ry(7.853981633974) | Qureg[1]\n",
      "H | Qureg[1]\n",
      "Ry(7.853981633974) | Qureg[1]\n",
      "H | Qureg[1]\n",
      "Ry(7.853981633974) | Qureg[1]\n",
      "H | Qureg[1]\n",
      "Ry(7.853981633974) | Qureg[1]\n",
      "H | Qureg[1]\n",
      "Ry(7.853981633974) | Qureg[1]\n",
      "H | Qureg[1]\n",
      "Ry(7.853981633974) | Qureg[1]\n",
      "H | Qureg[1]\n",
      "Ry(7.853981633974) | Qureg[1]\n",
      "H | Qureg[1]\n",
      "Ry(7.853981633974) | Qureg[1]\n",
      "H | Qureg[1]\n",
      "Ry(7.853981633974) | Qureg[1]\n",
      "H | Qureg[1]\n",
      "Ry(7.853981633974) | Qureg[1]\n",
      "H | Qureg[1]\n",
      "Ry(7.853981633974) | Qureg[1]\n",
      "H | Qureg[1]\n",
      "Ry(7.853981633974) | Qureg[1]\n",
      "H | Qureg[1]\n",
      "Ry(7.853981633974) | Qureg[1]\n",
      "H | Qureg[1]\n",
      "Ry(7.853981633974) | Qureg[1]\n",
      "H | Qureg[1]\n"
     ]
    },
    {
     "ename": "AttributeError",
     "evalue": "'numpy.ndarray' object has no attribute '_collapse'\n raised in:\n'  File \"/usr/local/lib/python3.6/dist-packages/numpy/matrixlib/defmatrix.py\", line 606, in all'\n'    return N.ndarray.all(self, axis, out, keepdims=True)._collapse(axis)'",
     "output_type": "error",
     "traceback": [
      "\u001b[0;31m---------------------------------------------------------------------------\u001b[0m",
      "\u001b[0;31mAttributeError\u001b[0m                            Traceback (most recent call last)",
      "\u001b[0;32m<ipython-input-14-ec1b28717c03>\u001b[0m in \u001b[0;36m<module>\u001b[0;34m()\u001b[0m\n\u001b[1;32m      6\u001b[0m \u001b[0mH\u001b[0m \u001b[0;34m|\u001b[0m \u001b[0mqubit1\u001b[0m\u001b[0;34m\u001b[0m\u001b[0m\n\u001b[1;32m      7\u001b[0m \u001b[0mCNOT\u001b[0m \u001b[0;34m|\u001b[0m \u001b[0;34m(\u001b[0m\u001b[0mqubit1\u001b[0m\u001b[0;34m,\u001b[0m \u001b[0mqubit2\u001b[0m\u001b[0;34m)\u001b[0m\u001b[0;34m\u001b[0m\u001b[0m\n\u001b[0;32m----> 8\u001b[0;31m \u001b[0meng2\u001b[0m\u001b[0;34m.\u001b[0m\u001b[0mflush\u001b[0m\u001b[0;34m(\u001b[0m\u001b[0;34m)\u001b[0m\u001b[0;34m\u001b[0m\u001b[0m\n\u001b[0m",
      "\u001b[0;32m/mnt/c/Users/danie/Documents/PhD/codes/QC_benchmark/projectq/cengines/_main.py\u001b[0m in \u001b[0;36mflush\u001b[0;34m(self, deallocate_qubits)\u001b[0m\n\u001b[1;32m    302\u001b[0m                 \u001b[0mqb\u001b[0m \u001b[0;34m=\u001b[0m \u001b[0mself\u001b[0m\u001b[0;34m.\u001b[0m\u001b[0mactive_qubits\u001b[0m\u001b[0;34m.\u001b[0m\u001b[0mpop\u001b[0m\u001b[0;34m(\u001b[0m\u001b[0;34m)\u001b[0m\u001b[0;34m\u001b[0m\u001b[0m\n\u001b[1;32m    303\u001b[0m                 \u001b[0mqb\u001b[0m\u001b[0;34m.\u001b[0m\u001b[0m__del__\u001b[0m\u001b[0;34m(\u001b[0m\u001b[0;34m)\u001b[0m\u001b[0;34m\u001b[0m\u001b[0m\n\u001b[0;32m--> 304\u001b[0;31m         \u001b[0mself\u001b[0m\u001b[0;34m.\u001b[0m\u001b[0mreceive\u001b[0m\u001b[0;34m(\u001b[0m\u001b[0;34m[\u001b[0m\u001b[0mCommand\u001b[0m\u001b[0;34m(\u001b[0m\u001b[0mself\u001b[0m\u001b[0;34m,\u001b[0m \u001b[0mFlushGate\u001b[0m\u001b[0;34m(\u001b[0m\u001b[0;34m)\u001b[0m\u001b[0;34m,\u001b[0m \u001b[0;34m(\u001b[0m\u001b[0;34m[\u001b[0m\u001b[0mWeakQubitRef\u001b[0m\u001b[0;34m(\u001b[0m\u001b[0mself\u001b[0m\u001b[0;34m,\u001b[0m \u001b[0;34m-\u001b[0m\u001b[0;36m1\u001b[0m\u001b[0;34m)\u001b[0m\u001b[0;34m]\u001b[0m\u001b[0;34m,\u001b[0m\u001b[0;34m)\u001b[0m\u001b[0;34m)\u001b[0m\u001b[0;34m]\u001b[0m\u001b[0;34m)\u001b[0m\u001b[0;34m\u001b[0m\u001b[0m\n\u001b[0m",
      "\u001b[0;32m/mnt/c/Users/danie/Documents/PhD/codes/QC_benchmark/projectq/cengines/_main.py\u001b[0m in \u001b[0;36mreceive\u001b[0;34m(self, command_list)\u001b[0m\n\u001b[1;32m    264\u001b[0m                 then send on)\n\u001b[1;32m    265\u001b[0m         \"\"\"\n\u001b[0;32m--> 266\u001b[0;31m         \u001b[0mself\u001b[0m\u001b[0;34m.\u001b[0m\u001b[0msend\u001b[0m\u001b[0;34m(\u001b[0m\u001b[0mcommand_list\u001b[0m\u001b[0;34m)\u001b[0m\u001b[0;34m\u001b[0m\u001b[0m\n\u001b[0m\u001b[1;32m    267\u001b[0m \u001b[0;34m\u001b[0m\u001b[0m\n\u001b[1;32m    268\u001b[0m     \u001b[0;32mdef\u001b[0m \u001b[0msend\u001b[0m\u001b[0;34m(\u001b[0m\u001b[0mself\u001b[0m\u001b[0;34m,\u001b[0m \u001b[0mcommand_list\u001b[0m\u001b[0;34m)\u001b[0m\u001b[0;34m:\u001b[0m\u001b[0;34m\u001b[0m\u001b[0m\n",
      "\u001b[0;32m/mnt/c/Users/danie/Documents/PhD/codes/QC_benchmark/projectq/cengines/_main.py\u001b[0m in \u001b[0;36msend\u001b[0;34m(self, command_list)\u001b[0m\n\u001b[1;32m    286\u001b[0m                                              \"\\n\" + repr(last_line[-2]))\n\u001b[1;32m    287\u001b[0m                 \u001b[0mcompact_exception\u001b[0m\u001b[0;34m.\u001b[0m\u001b[0m__cause__\u001b[0m \u001b[0;34m=\u001b[0m \u001b[0;32mNone\u001b[0m\u001b[0;34m\u001b[0m\u001b[0m\n\u001b[0;32m--> 288\u001b[0;31m                 \u001b[0;32mraise\u001b[0m \u001b[0mcompact_exception\u001b[0m  \u001b[0;31m# use verbose=True for more info\u001b[0m\u001b[0;34m\u001b[0m\u001b[0m\n\u001b[0m\u001b[1;32m    289\u001b[0m \u001b[0;34m\u001b[0m\u001b[0m\n\u001b[1;32m    290\u001b[0m     \u001b[0;32mdef\u001b[0m \u001b[0mflush\u001b[0m\u001b[0;34m(\u001b[0m\u001b[0mself\u001b[0m\u001b[0;34m,\u001b[0m \u001b[0mdeallocate_qubits\u001b[0m\u001b[0;34m=\u001b[0m\u001b[0;32mFalse\u001b[0m\u001b[0;34m)\u001b[0m\u001b[0;34m:\u001b[0m\u001b[0;34m\u001b[0m\u001b[0m\n",
      "\u001b[0;31mAttributeError\u001b[0m: 'numpy.ndarray' object has no attribute '_collapse'\n raised in:\n'  File \"/usr/local/lib/python3.6/dist-packages/numpy/matrixlib/defmatrix.py\", line 606, in all'\n'    return N.ndarray.all(self, axis, out, keepdims=True)._collapse(axis)'"
     ]
    }
   ],
   "source": [
    "eng2 = projectq.MainEngine(backend=CommandPrinter(), engine_list=engines2)\n",
    "\n",
    "qubit1 = eng2.allocate_qubit()\n",
    "qubit2 = eng2.allocate_qubit()\n",
    "\n",
    "H | qubit1\n",
    "CNOT | (qubit1, qubit2)\n",
    "eng2.flush()"
   ]
  },
  {
   "cell_type": "code",
   "execution_count": 16,
   "metadata": {},
   "outputs": [],
   "source": [
    "import projectq.setups.decompositions\n",
    "rule_set = projectq.cengines.DecompositionRuleSet(modules=[projectq.setups.decompositions])"
   ]
  },
  {
   "cell_type": "code",
   "execution_count": 17,
   "metadata": {},
   "outputs": [
    {
     "data": {
      "text/plain": [
       "<module 'projectq.setups.decompositions' from '/mnt/c/Users/danie/Documents/PhD/codes/QC_benchmark/projectq/setups/decompositions/__init__.py'>"
      ]
     },
     "execution_count": 17,
     "metadata": {},
     "output_type": "execute_result"
    }
   ],
   "source": [
    "projectq.setups.decompositions"
   ]
  },
  {
   "cell_type": "code",
   "execution_count": null,
   "metadata": {},
   "outputs": [],
   "source": []
  }
 ],
 "metadata": {
  "kernelspec": {
   "display_name": "Python 3",
   "language": "python",
   "name": "python3"
  },
  "language_info": {
   "codemirror_mode": {
    "name": "ipython",
    "version": 3
   },
   "file_extension": ".py",
   "mimetype": "text/x-python",
   "name": "python",
   "nbconvert_exporter": "python",
   "pygments_lexer": "ipython3",
   "version": "3.6.6"
  }
 },
 "nbformat": 4,
 "nbformat_minor": 2
}
