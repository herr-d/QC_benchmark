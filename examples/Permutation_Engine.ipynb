{
 "cells": [
  {
   "cell_type": "markdown",
   "metadata": {},
   "source": [
    "# Permutation engine examples"
   ]
  },
  {
   "cell_type": "markdown",
   "metadata": {},
   "source": [
    "This shows how to use the permutation engine to permute gates of a certain type towards the beginning or end of the circuit.\n",
    "It relies on the implementation of permutation rules between different gates. Currently, only rotational gates + Pauli + S + H + T and TimeEvolution gates are supported. So far there is no support for Controlled gates. But a CNOT can easily decomposed into two pi/4 rotations."
   ]
  },
  {
   "cell_type": "code",
   "execution_count": 1,
   "metadata": {},
   "outputs": [],
   "source": [
    "import projectq\n",
    "import cmath\n",
    "from projectq.backends import CommandPrinter, Simulator\n",
    "from projectq.ops import *\n",
    "from projectq.cengines import PermutePi4Front"
   ]
  },
  {
   "cell_type": "markdown",
   "metadata": {},
   "source": [
    "#### First generate the main engine and the order of all the engines in the compiler stack."
   ]
  },
  {
   "cell_type": "code",
   "execution_count": 2,
   "metadata": {},
   "outputs": [],
   "source": [
    "engines = [CommandPrinter(),projectq.cengines.TagRemover(),PermutePi4Front()]\n",
    "eng = projectq.MainEngine(backend=CommandPrinter(), engine_list=engines)"
   ]
  },
  {
   "cell_type": "markdown",
   "metadata": {},
   "source": [
    "Now lets generate a very simple circuit"
   ]
  },
  {
   "cell_type": "code",
   "execution_count": 3,
   "metadata": {
    "scrolled": true
   },
   "outputs": [
    {
     "name": "stdout",
     "output_type": "stream",
     "text": [
      "Allocate | Qureg[0]\n",
      "X | Qureg[0]\n",
      "Y | Qureg[0]\n",
      "X | Qureg[0]\n",
      "T | Qureg[0]\n",
      "T | Qureg[0]\n",
      "Warning: recieved a flush gate. For the permutation engine to work a flush can only be performed at the very end.\n",
      "Allocate | Qureg[0]\n",
      "Rz(11.780972450962) | Qureg[0]\n",
      "Rz(11.780972450962) | Qureg[0]\n",
      "Rx(3.14159265359) | Qureg[0]\n",
      "Ry(3.14159265359) | Qureg[0]\n",
      "Rx(3.14159265359) | Qureg[0]\n"
     ]
    }
   ],
   "source": [
    "qubit = eng.allocate_qubit()\n",
    "X | qubit\n",
    "Y | qubit\n",
    "X | qubit\n",
    "T | qubit\n",
    "T | qubit\n",
    "eng.flush()"
   ]
  },
  {
   "cell_type": "markdown",
   "metadata": {},
   "source": [
    "Now lets take a look at two qubit gates. Such as the CNOT gate. For this we need to use the replacement rules provided by the projectq replacement engine. For this we first need to define which gates are allowed and which need to be replaced. This has been done in setups already."
   ]
  },
  {
   "cell_type": "code",
   "execution_count": 4,
   "metadata": {},
   "outputs": [],
   "source": [
    "from projectq.setups.surface_codes import lattice_surgery"
   ]
  },
  {
   "cell_type": "code",
   "execution_count": 5,
   "metadata": {},
   "outputs": [
    {
     "name": "stdout",
     "output_type": "stream",
     "text": [
      "[<projectq.cengines._replacer._replacer.AutoReplacer object at 0x7fab6f841a20>, <projectq.cengines._tagremover.TagRemover object at 0x7fab6f85f7f0>, <projectq.cengines._replacer._replacer.InstructionFilter object at 0x7fab6f85f828>, <projectq.cengines._optimize.LocalOptimizer object at 0x7fab6f85f860>, <projectq.cengines._replacer._replacer.AutoReplacer object at 0x7fab6f85f898>, <projectq.cengines._tagremover.TagRemover object at 0x7fab6f85f8d0>, <projectq.cengines._replacer._replacer.InstructionFilter object at 0x7fab6f85f908>, <projectq.cengines._optimize.LocalOptimizer object at 0x7fab6f85f940>, <projectq.cengines._replacer._replacer.AutoReplacer object at 0x7fab6f85f978>, <projectq.cengines._tagremover.TagRemover object at 0x7fab6f85f9b0>, <projectq.cengines._replacer._replacer.InstructionFilter object at 0x7fab6f85f9e8>, <projectq.cengines._optimize.LocalOptimizer object at 0x7fab6f85fa20>, <projectq.cengines._replacer._replacer.AutoReplacer object at 0x7fab6f85fa90>, <projectq.cengines._tagremover.TagRemover object at 0x7fab6f85fb00>, <projectq.cengines._replacer._replacer.InstructionFilter object at 0x7fab6f85fb38>, <projectq.cengines._permutation._permutation.PermutePi4Front object at 0x7fab6f85fb70>]\n"
     ]
    }
   ],
   "source": [
    "engines2 = lattice_surgery.get_engine_list()\n",
    "print(engines2)"
   ]
  },
  {
   "cell_type": "code",
   "execution_count": 6,
   "metadata": {},
   "outputs": [
    {
     "name": "stdout",
     "output_type": "stream",
     "text": [
      "Warning: recieved a flush gate. For the permutation engine to work a flush can only be performed at the very end.\n",
      "Allocate | Qureg[0]\n",
      "H | Qureg[0]\n",
      "Allocate | Qureg[1]\n",
      "exp(0.7853981633974483j * (1.0 Z0 X1)) | Qureg[0-1]\n",
      "Rz(3.14159265359) | Qureg[0]\n",
      "Rx(3.14159265359) | Qureg[1]\n"
     ]
    }
   ],
   "source": [
    "eng2 = projectq.MainEngine(backend=CommandPrinter(accept_input=False), engine_list=engines2, verbose=True)\n",
    "\n",
    "qubit1 = eng2.allocate_qubit()\n",
    "qubit2 = eng2.allocate_qubit()\n",
    "\n",
    "H | qubit1\n",
    "CNOT | (qubit1, qubit2)\n",
    "eng2.flush()"
   ]
  },
  {
   "cell_type": "code",
   "execution_count": null,
   "metadata": {},
   "outputs": [],
   "source": []
  }
 ],
 "metadata": {
  "kernelspec": {
   "display_name": "Python 3",
   "language": "python",
   "name": "python3"
  },
  "language_info": {
   "codemirror_mode": {
    "name": "ipython",
    "version": 3
   },
   "file_extension": ".py",
   "mimetype": "text/x-python",
   "name": "python",
   "nbconvert_exporter": "python",
   "pygments_lexer": "ipython3",
   "version": "3.6.6"
  }
 },
 "nbformat": 4,
 "nbformat_minor": 2
}
